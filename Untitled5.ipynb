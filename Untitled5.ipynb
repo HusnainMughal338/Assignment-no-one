{
  "nbformat": 4,
  "nbformat_minor": 0,
  "metadata": {
    "colab": {
      "provenance": [],
      "authorship_tag": "ABX9TyMLTNKUlZ9JHQ1LFQGwetDH",
      "include_colab_link": true
    },
    "kernelspec": {
      "name": "python3",
      "display_name": "Python 3"
    },
    "language_info": {
      "name": "python"
    }
  },
  "cells": [
    {
      "cell_type": "markdown",
      "metadata": {
        "id": "view-in-github",
        "colab_type": "text"
      },
      "source": [
        "<a href=\"https://colab.research.google.com/github/HusnainMughal338/Assignment-no-one/blob/main/Untitled5.ipynb\" target=\"_parent\"><img src=\"https://colab.research.google.com/assets/colab-badge.svg\" alt=\"Open In Colab\"/></a>"
      ]
    },
    {
      "cell_type": "markdown",
      "source": [
        "Question NO 1:\n",
        "\n",
        "Given a list of fruits: ['apple', 'banana', 'cherry', 'orange', 'kiwi', 'mango'],\n",
        "write a program to:\n",
        "Access the first, middle, and last element of the list.\n",
        "Change the second element to 'blueberry'."
      ],
      "metadata": {
        "id": "Dwavauvb_3nH"
      }
    },
    {
      "cell_type": "code",
      "execution_count": 1,
      "metadata": {
        "colab": {
          "base_uri": "https://localhost:8080/"
        },
        "id": "oZpfvU7x_hnf",
        "outputId": "440b1aba-0057-401c-a894-3d536913cae5"
      },
      "outputs": [
        {
          "output_type": "stream",
          "name": "stdout",
          "text": [
            "First fruit: apple\n",
            "Middle fruit: orange\n",
            "Last fruit: mango\n",
            "Updated list: ['apple', 'blueberry', 'cherry', 'orange', 'kiwi', 'mango']\n"
          ]
        }
      ],
      "source": [
        "# List of fruits\n",
        "fruits = ['apple', 'banana', 'cherry', 'orange', 'kiwi', 'mango']\n",
        "\n",
        "# Access the first, middle, and last elements\n",
        "first_fruit = fruits[0]\n",
        "middle_fruit = fruits[len(fruits) // 2]  # Find middle element\n",
        "last_fruit = fruits[-1]\n",
        "print(f\"First fruit: {first_fruit}\")\n",
        "print(f\"Middle fruit: {middle_fruit}\")\n",
        "print(f\"Last fruit: {last_fruit}\")\n",
        "\n",
        "# Change the second element to 'blueberry'\n",
        "fruits[1] = 'blueberry'\n",
        "\n",
        "# Print the updated list\n",
        "print(f\"Updated list: {fruits}\")"
      ]
    },
    {
      "cell_type": "markdown",
      "source": [
        "Question NO 2:\n",
        "\n",
        "Write a Python program to create a list of 5 numbers. Add an element to the list, remove one element, and find the maximum and minimum number in the list.\n"
      ],
      "metadata": {
        "id": "DTE85HSmBZ5-"
      }
    },
    {
      "cell_type": "code",
      "source": [
        "# Create a list of 5 numbers\n",
        "numbers = [10, 20, 30, 40, 50]\n",
        "\n",
        "# Add an element to the list\n",
        "numbers.append(60)\n",
        "\n",
        "# Remove one element (let's remove the number 20)\n",
        "numbers.remove(20)\n",
        "\n",
        "# Find the maximum and minimum number in the list\n",
        "max_number = max(numbers)\n",
        "min_number = min(numbers)\n",
        "\n",
        "# Display the results\n",
        "print(f\"Updated list: {numbers}\")\n",
        "print(f\"Maximum number: {max_number}\")\n",
        "print(f\"Minimum number: {min_number}\")\n"
      ],
      "metadata": {
        "colab": {
          "base_uri": "https://localhost:8080/"
        },
        "id": "E4eDGAYgBetE",
        "outputId": "0c71aec8-ddac-45b1-9b8c-f1e2888de120"
      },
      "execution_count": 2,
      "outputs": [
        {
          "output_type": "stream",
          "name": "stdout",
          "text": [
            "Updated list: [10, 30, 40, 50, 60]\n",
            "Maximum number: 60\n",
            "Minimum number: 10\n"
          ]
        }
      ]
    },
    {
      "cell_type": "markdown",
      "source": [
        "Question NO 3:\n",
        "\n",
        "Write a program that takes a list of student names as input, sorts the names in alphabetical order, and prints the sorted list."
      ],
      "metadata": {
        "id": "D52xXSElES_G"
      }
    },
    {
      "cell_type": "code",
      "source": [
        "# Function to take input of student names and sort them\n",
        "def sort_student_names():\n",
        "    # Input: number of students\n",
        "    num_students = int(input(\"Enter the number of students: \"))\n",
        "\n",
        "    # Create an empty list to store the names\n",
        "    student_names = []\n",
        "\n",
        "    # Input: student names\n",
        "    for _ in range(num_students):\n",
        "        name = input(\"Enter student name: \")\n",
        "        student_names.append(name)\n",
        "\n",
        "    # Sort the list of names alphabetically\n",
        "    student_names.sort()\n",
        "\n",
        "    # Print the sorted list\n",
        "    print(\"\\nSorted list of student names:\")\n",
        "    for name in student_names:\n",
        "        print(name)\n",
        "\n",
        "# Call the function to execute the program\n",
        "sort_student_names()\n"
      ],
      "metadata": {
        "colab": {
          "base_uri": "https://localhost:8080/"
        },
        "id": "pV-XpnMNFFFC",
        "outputId": "8fd6a7ef-d719-4609-822e-9ff80d07975a"
      },
      "execution_count": 3,
      "outputs": [
        {
          "output_type": "stream",
          "name": "stdout",
          "text": [
            "Enter the number of students: 1\n",
            "Enter student name: 2\n",
            "\n",
            "Sorted list of student names:\n",
            "2\n"
          ]
        }
      ]
    },
    {
      "cell_type": "markdown",
      "source": [
        "Question NO 4:\n",
        "\n",
        "- Write a program that takes a list of integers and prints:\n",
        "\n",
        "The first 3 elements\n",
        "The last 2 elements\n",
        "The entire list in reverse orde"
      ],
      "metadata": {
        "id": "0KLKX1hdFeu_"
      }
    },
    {
      "cell_type": "code",
      "source": [
        "# Function to process and display parts of the list\n",
        "def process_integer_list():\n",
        "    # Input: Take a list of integers from the user\n",
        "    num_list = list(map(int, input(\"Enter a list of integers separated by spaces: \").split()))\n",
        "\n",
        "    # Print the first 3 elements\n",
        "    print(\"\\nFirst 3 elements:\", num_list[:3])\n",
        "\n",
        "    # Print the last 2 elements\n",
        "    print(\"Last 2 elements:\", num_list[-2:])\n",
        "\n",
        "    # Print the entire list in reverse order\n",
        "    print(\"List in reverse order:\", num_list[::-1])\n",
        "\n",
        "# Call the function to execute the program\n",
        "process_integer_list()\n"
      ],
      "metadata": {
        "colab": {
          "base_uri": "https://localhost:8080/"
        },
        "id": "IeVr5n6JFjdZ",
        "outputId": "a7080acd-31a2-4816-80b7-5ec6b383f744"
      },
      "execution_count": 4,
      "outputs": [
        {
          "output_type": "stream",
          "name": "stdout",
          "text": [
            "Enter a list of integers separated by spaces: 1\n",
            "\n",
            "First 3 elements: [1]\n",
            "Last 2 elements: [1]\n",
            "List in reverse order: [1]\n"
          ]
        }
      ]
    },
    {
      "cell_type": "markdown",
      "source": [
        "Question NO 5:\n",
        "\n",
        "Write a Python program that removes all duplicates from a given list and prints the new list without duplicates."
      ],
      "metadata": {
        "id": "CqnMJwHRFzUO"
      }
    },
    {
      "cell_type": "markdown",
      "source": [
        "Note:\n",
        "     \n",
        "     Here’s a Python program that removes all duplicates from a given list and prints the new list without duplicates:"
      ],
      "metadata": {
        "id": "JZBGvK_SGPo8"
      }
    },
    {
      "cell_type": "code",
      "source": [
        "# Function to remove duplicates from a list\n",
        "def remove_duplicates():\n",
        "    # Input: Take a list of integers from the user\n",
        "    num_list = list(map(int, input(\"Enter a list of integers separated by spaces: \").split()))\n",
        "\n",
        "    # Remove duplicates by converting the list to a set, then back to a list\n",
        "    unique_list = list(set(num_list))\n",
        "\n",
        "    # Print the new list without duplicates\n",
        "    print(\"\\nList without duplicates:\", unique_list)\n",
        "\n",
        "# Call the function to execute the program\n",
        "remove_duplicates()\n"
      ],
      "metadata": {
        "colab": {
          "base_uri": "https://localhost:8080/"
        },
        "id": "G9BzTSDQF3VA",
        "outputId": "60ab24d9-c63f-461a-fcf6-9ea65e3926c4"
      },
      "execution_count": 5,
      "outputs": [
        {
          "output_type": "stream",
          "name": "stdout",
          "text": [
            "Enter a list of integers separated by spaces: 1\n",
            "\n",
            "List without duplicates: [1]\n"
          ]
        }
      ]
    },
    {
      "cell_type": "markdown",
      "source": [
        "\n",
        "Here’s a Python program that removes all duplicates from a given list and prints the new list without duplicates:\n",
        "\n",
        "python\n",
        "Copy code\n",
        "# Function to remove duplicates from a list\n",
        "def remove_duplicates():\n",
        "    # Input: Take a list of integers from the user\n",
        "    num_list = list(map(int, input(\"Enter a list of integers separated by spaces: \").split()))\n",
        "\n",
        "    # Remove duplicates by converting the list to a set, then back to a list\n",
        "    unique_list = list(set(num_list))\n",
        "\n",
        "    # Print the new list without duplicates\n",
        "    print(\"\\nList without duplicates:\", unique_list)\n",
        "\n",
        "# Call the function to execute the program\n",
        "remove_duplicates()\n",
        "Explanation:\n",
        "The program takes a list of integers as input from the user.\n",
        "The set() function automatically removes duplicates because sets do not allow duplicate values.\n",
        "The set is then converted back to a list using list() to maintain a list structure.\n",
        "Finally, the list without duplicates is printed.\n",
        "This approach doesn't maintain the original order of elements. If preserving the order is important, here’s an alternative version:"
      ],
      "metadata": {
        "id": "M4XGEGKhGnpv"
      }
    },
    {
      "cell_type": "code",
      "source": [
        "# Function to remove duplicates while maintaining order\n",
        "def remove_duplicates():\n",
        "    # Input: Take a list of integers from the user\n",
        "    num_list = list(map(int, input(\"Enter a list of integers separated by spaces: \").split()))\n",
        "\n",
        "    # Use a loop to remove duplicates while maintaining order\n",
        "    unique_list = []\n",
        "    for num in num_list:\n",
        "        if num not in unique_list:\n",
        "            unique_list.append(num)\n",
        "\n",
        "    # Print the new list without duplicates\n",
        "    print(\"\\nList without duplicates:\", unique_list)\n",
        "\n",
        "# Call the function to execute the program\n",
        "remove_duplicates()\n"
      ],
      "metadata": {
        "id": "SDQMub9nGvjT"
      },
      "execution_count": null,
      "outputs": []
    }
  ]
}